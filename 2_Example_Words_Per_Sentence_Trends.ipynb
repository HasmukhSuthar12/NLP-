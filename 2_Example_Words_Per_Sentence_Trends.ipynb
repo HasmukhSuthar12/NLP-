{
 "cells": [
  {
   "cell_type": "markdown",
   "metadata": {
    "colab_type": "text",
    "id": "XGqpMBPYgcFk"
   },
   "source": [
    "\n",
    "\n",
    "# NLTK and the Basics - Example: Words Per Sentence Trends"
   ]
  },
  {
   "cell_type": "code",
   "execution_count": 1,
   "metadata": {
    "colab": {},
    "colab_type": "code",
    "id": "DriwaFHGgcF8"
   },
   "outputs": [],
   "source": [
    "import nltk"
   ]
  },
  {
   "cell_type": "code",
   "execution_count": 2,
   "metadata": {
    "colab": {},
    "colab_type": "code",
    "id": "LHy2NVFxgcH_"
   },
   "outputs": [],
   "source": [
    "from nltk.corpus import inaugural"
   ]
  },
  {
   "cell_type": "code",
   "execution_count": 3,
   "metadata": {
    "colab": {},
    "colab_type": "code",
    "id": "ytzDaGE-gcJS",
    "outputId": "3624751a-5b13-41cd-aea5-adb49671035b"
   },
   "outputs": [
    {
     "data": {
      "text/plain": [
       "['1789-Washington.txt',\n",
       " '1793-Washington.txt',\n",
       " '1797-Adams.txt',\n",
       " '1801-Jefferson.txt',\n",
       " '1805-Jefferson.txt',\n",
       " '1809-Madison.txt',\n",
       " '1813-Madison.txt',\n",
       " '1817-Monroe.txt',\n",
       " '1821-Monroe.txt',\n",
       " '1825-Adams.txt',\n",
       " '1829-Jackson.txt',\n",
       " '1833-Jackson.txt',\n",
       " '1837-VanBuren.txt',\n",
       " '1841-Harrison.txt',\n",
       " '1845-Polk.txt',\n",
       " '1849-Taylor.txt',\n",
       " '1853-Pierce.txt',\n",
       " '1857-Buchanan.txt',\n",
       " '1861-Lincoln.txt',\n",
       " '1865-Lincoln.txt',\n",
       " '1869-Grant.txt',\n",
       " '1873-Grant.txt',\n",
       " '1877-Hayes.txt',\n",
       " '1881-Garfield.txt',\n",
       " '1885-Cleveland.txt',\n",
       " '1889-Harrison.txt',\n",
       " '1893-Cleveland.txt',\n",
       " '1897-McKinley.txt',\n",
       " '1901-McKinley.txt',\n",
       " '1905-Roosevelt.txt',\n",
       " '1909-Taft.txt',\n",
       " '1913-Wilson.txt',\n",
       " '1917-Wilson.txt',\n",
       " '1921-Harding.txt',\n",
       " '1925-Coolidge.txt',\n",
       " '1929-Hoover.txt',\n",
       " '1933-Roosevelt.txt',\n",
       " '1937-Roosevelt.txt',\n",
       " '1941-Roosevelt.txt',\n",
       " '1945-Roosevelt.txt',\n",
       " '1949-Truman.txt',\n",
       " '1953-Eisenhower.txt',\n",
       " '1957-Eisenhower.txt',\n",
       " '1961-Kennedy.txt',\n",
       " '1965-Johnson.txt',\n",
       " '1969-Nixon.txt',\n",
       " '1973-Nixon.txt',\n",
       " '1977-Carter.txt',\n",
       " '1981-Reagan.txt',\n",
       " '1985-Reagan.txt',\n",
       " '1989-Bush.txt',\n",
       " '1993-Clinton.txt',\n",
       " '1997-Clinton.txt',\n",
       " '2001-Bush.txt',\n",
       " '2005-Bush.txt',\n",
       " '2009-Obama.txt',\n",
       " '2013-Obama.txt',\n",
       " '2017-Trump.txt',\n",
       " '2021-Biden.txt']"
      ]
     },
     "execution_count": 3,
     "metadata": {},
     "output_type": "execute_result"
    }
   ],
   "source": [
    "inaugural.fileids()"
   ]
  },
  {
   "cell_type": "code",
   "execution_count": 4,
   "metadata": {
    "colab": {},
    "colab_type": "code",
    "id": "uIGggf6bgcKm",
    "outputId": "2508eed4-8500-49c9-b7be-435955470923"
   },
   "outputs": [
    {
     "name": "stdout",
     "output_type": "stream",
     "text": [
      "1538 1789-Washington.txt\n",
      "147 1793-Washington.txt\n",
      "2585 1797-Adams.txt\n",
      "1935 1801-Jefferson.txt\n",
      "2384 1805-Jefferson.txt\n",
      "1265 1809-Madison.txt\n",
      "1304 1813-Madison.txt\n",
      "3693 1817-Monroe.txt\n",
      "4909 1821-Monroe.txt\n",
      "3150 1825-Adams.txt\n",
      "1208 1829-Jackson.txt\n",
      "1267 1833-Jackson.txt\n",
      "4171 1837-VanBuren.txt\n",
      "9165 1841-Harrison.txt\n",
      "5196 1845-Polk.txt\n",
      "1182 1849-Taylor.txt\n",
      "3657 1853-Pierce.txt\n",
      "3098 1857-Buchanan.txt\n",
      "4005 1861-Lincoln.txt\n",
      "785 1865-Lincoln.txt\n",
      "1239 1869-Grant.txt\n",
      "1478 1873-Grant.txt\n",
      "2724 1877-Hayes.txt\n",
      "3239 1881-Garfield.txt\n",
      "1828 1885-Cleveland.txt\n",
      "4750 1889-Harrison.txt\n",
      "2153 1893-Cleveland.txt\n",
      "4371 1897-McKinley.txt\n",
      "2450 1901-McKinley.txt\n",
      "1091 1905-Roosevelt.txt\n",
      "5846 1909-Taft.txt\n",
      "1905 1913-Wilson.txt\n",
      "1656 1917-Wilson.txt\n",
      "3756 1921-Harding.txt\n",
      "4442 1925-Coolidge.txt\n",
      "3890 1929-Hoover.txt\n",
      "2063 1933-Roosevelt.txt\n",
      "2019 1937-Roosevelt.txt\n",
      "1536 1941-Roosevelt.txt\n",
      "637 1945-Roosevelt.txt\n",
      "2528 1949-Truman.txt\n",
      "2775 1953-Eisenhower.txt\n",
      "1917 1957-Eisenhower.txt\n",
      "1546 1961-Kennedy.txt\n",
      "1715 1965-Johnson.txt\n",
      "2425 1969-Nixon.txt\n",
      "2028 1973-Nixon.txt\n",
      "1380 1977-Carter.txt\n",
      "2801 1981-Reagan.txt\n",
      "2946 1985-Reagan.txt\n",
      "2713 1989-Bush.txt\n",
      "1855 1993-Clinton.txt\n",
      "2462 1997-Clinton.txt\n",
      "1825 2001-Bush.txt\n",
      "2376 2005-Bush.txt\n",
      "2726 2009-Obama.txt\n",
      "2369 2013-Obama.txt\n",
      "1693 2017-Trump.txt\n",
      "3104 2021-Biden.txt\n"
     ]
    }
   ],
   "source": [
    "for speech in inaugural.fileids():\n",
    "    words_total = len(inaugural.words(speech))\n",
    "    print(words_total, speech)"
   ]
  },
  {
   "cell_type": "code",
   "execution_count": 5,
   "metadata": {
    "colab": {},
    "colab_type": "code",
    "id": "VksGqZmvgcLr"
   },
   "outputs": [],
   "source": [
    "speech_len = [(len(inaugural.words(speech)), speech) for speech in inaugural.fileids()]"
   ]
  },
  {
   "cell_type": "code",
   "execution_count": 6,
   "metadata": {
    "colab": {},
    "colab_type": "code",
    "id": "BzrstOHxgcM1",
    "outputId": "738f56d9-f32a-4963-98ba-7f2c119e1ea7"
   },
   "outputs": [
    {
     "data": {
      "text/plain": [
       "(9165, '1841-Harrison.txt')"
      ]
     },
     "execution_count": 6,
     "metadata": {},
     "output_type": "execute_result"
    }
   ],
   "source": [
    "max(speech_len)"
   ]
  },
  {
   "cell_type": "code",
   "execution_count": 7,
   "metadata": {
    "colab": {},
    "colab_type": "code",
    "id": "-4KrT68cgcN1",
    "outputId": "81e1e781-1334-4b9c-ec11-da013d86c76f"
   },
   "outputs": [
    {
     "data": {
      "text/plain": [
       "(147, '1793-Washington.txt')"
      ]
     },
     "execution_count": 7,
     "metadata": {},
     "output_type": "execute_result"
    }
   ],
   "source": [
    "min(speech_len)"
   ]
  },
  {
   "cell_type": "code",
   "execution_count": 8,
   "metadata": {
    "colab": {},
    "colab_type": "code",
    "id": "LcvwWqAJgcOu",
    "outputId": "04619a1f-96de-4f96-cc2e-0b028e526bb5"
   },
   "outputs": [
    {
     "name": "stdout",
     "output_type": "stream",
     "text": [
      "64.08333333333333 1789-Washington.txt\n",
      "36.75 1793-Washington.txt\n",
      "69.86486486486487 1797-Adams.txt\n",
      "46.07142857142857 1801-Jefferson.txt\n",
      "52.977777777777774 1805-Jefferson.txt\n",
      "60.23809523809524 1809-Madison.txt\n",
      "39.515151515151516 1813-Madison.txt\n",
      "30.270491803278688 1817-Monroe.txt\n",
      "38.054263565891475 1821-Monroe.txt\n",
      "42.567567567567565 1825-Adams.txt\n",
      "48.32 1829-Jackson.txt\n",
      "42.233333333333334 1833-Jackson.txt\n",
      "43.90526315789474 1837-VanBuren.txt\n",
      "43.642857142857146 1841-Harrison.txt\n",
      "33.96078431372549 1845-Polk.txt\n",
      "53.72727272727273 1849-Taylor.txt\n",
      "35.16346153846154 1853-Pierce.txt\n",
      "34.80898876404494 1857-Buchanan.txt\n",
      "29.02173913043478 1861-Lincoln.txt\n",
      "29.074074074074073 1865-Lincoln.txt\n",
      "30.21951219512195 1869-Grant.txt\n",
      "33.59090909090909 1873-Grant.txt\n",
      "46.16949152542373 1877-Hayes.txt\n",
      "28.919642857142858 1881-Garfield.txt\n",
      "41.54545454545455 1885-Cleveland.txt\n",
      "30.254777070063696 1889-Harrison.txt\n",
      "37.12068965517241 1893-Cleveland.txt\n",
      "33.62307692307692 1897-McKinley.txt\n",
      "24.5 1901-McKinley.txt\n",
      "33.06060606060606 1905-Roosevelt.txt\n",
      "36.76729559748428 1909-Taft.txt\n",
      "28.014705882352942 1913-Wilson.txt\n",
      "27.6 1917-Wilson.txt\n",
      "25.20805369127517 1921-Harding.txt\n",
      "22.548223350253807 1925-Coolidge.txt\n",
      "24.620253164556964 1929-Hoover.txt\n",
      "24.270588235294117 1933-Roosevelt.txt\n",
      "21.03125 1937-Roosevelt.txt\n",
      "22.58823529411765 1941-Roosevelt.txt\n",
      "24.5 1945-Roosevelt.txt\n",
      "21.79310344827586 1949-Truman.txt\n",
      "22.5609756097561 1953-Eisenhower.txt\n",
      "20.83695652173913 1957-Eisenhower.txt\n",
      "29.73076923076923 1961-Kennedy.txt\n",
      "18.24468085106383 1965-Johnson.txt\n",
      "22.87735849056604 1969-Nixon.txt\n",
      "29.391304347826086 1973-Nixon.txt\n",
      "26.037735849056602 1977-Carter.txt\n",
      "22.055118110236222 1981-Reagan.txt\n",
      "23.38095238095238 1985-Reagan.txt\n",
      "18.71034482758621 1989-Bush.txt\n",
      "22.901234567901234 1993-Clinton.txt\n",
      "21.982142857142858 1997-Clinton.txt\n",
      "18.814432989690722 2001-Bush.txt\n",
      "25.010526315789473 2005-Bush.txt\n",
      "24.339285714285715 2009-Obama.txt\n",
      "25.75 2013-Obama.txt\n",
      "18.81111111111111 2017-Trump.txt\n",
      "18.58682634730539 2021-Biden.txt\n"
     ]
    }
   ],
   "source": [
    "for speech in inaugural.fileids():\n",
    "    words_total = len(inaugural.words(speech))\n",
    "    sents_total = len(inaugural.sents(speech))\n",
    "    print(words_total/sents_total, speech)"
   ]
  },
  {
   "cell_type": "code",
   "execution_count": 9,
   "metadata": {
    "colab": {},
    "colab_type": "code",
    "id": "NMt44viQgcPr"
   },
   "outputs": [],
   "source": [
    "import pandas as pd"
   ]
  },
  {
   "cell_type": "code",
   "execution_count": 10,
   "metadata": {
    "colab": {},
    "colab_type": "code",
    "id": "BoZZrS1-gcQm"
   },
   "outputs": [],
   "source": [
    "data = pd.DataFrame([int(speech[:4]), len(inaugural.words(speech))/len(inaugural.sents(speech))] for speech in inaugural.fileids())"
   ]
  },
  {
   "cell_type": "code",
   "execution_count": 11,
   "metadata": {
    "colab": {},
    "colab_type": "code",
    "id": "VRxAYk6QgcRs"
   },
   "outputs": [],
   "source": [
    "data.columns = ['Year', 'Average WPS']"
   ]
  },
  {
   "cell_type": "code",
   "execution_count": 12,
   "metadata": {
    "colab": {},
    "colab_type": "code",
    "id": "DQ8uLB3PgcS6",
    "outputId": "74d525f0-9215-4f8d-be86-00c5054cf1c2"
   },
   "outputs": [
    {
     "data": {
      "text/html": [
       "<div>\n",
       "<style scoped>\n",
       "    .dataframe tbody tr th:only-of-type {\n",
       "        vertical-align: middle;\n",
       "    }\n",
       "\n",
       "    .dataframe tbody tr th {\n",
       "        vertical-align: top;\n",
       "    }\n",
       "\n",
       "    .dataframe thead th {\n",
       "        text-align: right;\n",
       "    }\n",
       "</style>\n",
       "<table border=\"1\" class=\"dataframe\">\n",
       "  <thead>\n",
       "    <tr style=\"text-align: right;\">\n",
       "      <th></th>\n",
       "      <th>Year</th>\n",
       "      <th>Average WPS</th>\n",
       "    </tr>\n",
       "  </thead>\n",
       "  <tbody>\n",
       "    <tr>\n",
       "      <th>0</th>\n",
       "      <td>1789</td>\n",
       "      <td>64.083333</td>\n",
       "    </tr>\n",
       "    <tr>\n",
       "      <th>1</th>\n",
       "      <td>1793</td>\n",
       "      <td>36.750000</td>\n",
       "    </tr>\n",
       "    <tr>\n",
       "      <th>2</th>\n",
       "      <td>1797</td>\n",
       "      <td>69.864865</td>\n",
       "    </tr>\n",
       "    <tr>\n",
       "      <th>3</th>\n",
       "      <td>1801</td>\n",
       "      <td>46.071429</td>\n",
       "    </tr>\n",
       "    <tr>\n",
       "      <th>4</th>\n",
       "      <td>1805</td>\n",
       "      <td>52.977778</td>\n",
       "    </tr>\n",
       "    <tr>\n",
       "      <th>5</th>\n",
       "      <td>1809</td>\n",
       "      <td>60.238095</td>\n",
       "    </tr>\n",
       "    <tr>\n",
       "      <th>6</th>\n",
       "      <td>1813</td>\n",
       "      <td>39.515152</td>\n",
       "    </tr>\n",
       "    <tr>\n",
       "      <th>7</th>\n",
       "      <td>1817</td>\n",
       "      <td>30.270492</td>\n",
       "    </tr>\n",
       "    <tr>\n",
       "      <th>8</th>\n",
       "      <td>1821</td>\n",
       "      <td>38.054264</td>\n",
       "    </tr>\n",
       "    <tr>\n",
       "      <th>9</th>\n",
       "      <td>1825</td>\n",
       "      <td>42.567568</td>\n",
       "    </tr>\n",
       "  </tbody>\n",
       "</table>\n",
       "</div>"
      ],
      "text/plain": [
       "   Year  Average WPS\n",
       "0  1789    64.083333\n",
       "1  1793    36.750000\n",
       "2  1797    69.864865\n",
       "3  1801    46.071429\n",
       "4  1805    52.977778\n",
       "5  1809    60.238095\n",
       "6  1813    39.515152\n",
       "7  1817    30.270492\n",
       "8  1821    38.054264\n",
       "9  1825    42.567568"
      ]
     },
     "execution_count": 12,
     "metadata": {},
     "output_type": "execute_result"
    }
   ],
   "source": [
    "data.head(10)"
   ]
  },
  {
   "cell_type": "code",
   "execution_count": 13,
   "metadata": {
    "colab": {},
    "colab_type": "code",
    "id": "f1Ow2tClgcT_",
    "outputId": "b6dfde98-0100-40ae-d511-ef6751192b1d"
   },
   "outputs": [
    {
     "data": {
      "text/plain": [
       "<AxesSubplot:xlabel='Year'>"
      ]
     },
     "execution_count": 13,
     "metadata": {},
     "output_type": "execute_result"
    },
    {
     "data": {
      "image/png": "[encoded data removed]",
      "text/plain": [
       "<Figure size 1080x360 with 1 Axes>"
      ]
     },
     "metadata": {},
     "output_type": "display_data"
    }
   ],
   "source": [
    "import matplotlib\n",
    "%matplotlib inline\n",
    "import seaborn as sns\n",
    "sns.set_style(\"whitegrid\")\n",
    "data.plot(\"Year\", figsize=(15,5))"
   ]
  }
 ],
 "metadata": {
  "colab": {
   "name": "2. Example - Words Per Sentence Trends.ipynb",
   "provenance": []
  },
  "kernelspec": {
   "display_name": "Python 3 (ipykernel)",
   "language": "python",
   "name": "python3"
  },
  "language_info": {
   "codemirror_mode": {
    "name": "ipython",
    "version": 3
   },
   "file_extension": ".py",
   "mimetype": "text/x-python",
   "name": "python",
   "nbconvert_exporter": "python",
   "pygments_lexer": "ipython3",
   "version": "3.10.5"
  }
 },
 "nbformat": 4,
 "nbformat_minor": 1
}
